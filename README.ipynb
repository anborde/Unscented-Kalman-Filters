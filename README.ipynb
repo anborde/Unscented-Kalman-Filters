{
 "cells": [
  {
   "cell_type": "markdown",
   "metadata": {},
   "source": [
    "# Unscented Kalman Filters\n",
    "---"
   ]
  },
  {
   "cell_type": "markdown",
   "metadata": {},
   "source": [
    "The presented project combines the data collected by LASER and RADAR sensors to locate obstacles encountered by a car while driving through a pathway.\n",
    "\n",
    "This project is part of Udacity's Self Driving Car Engineer Nanodegree and needs the simulator provided by Udacity to execute the project."
   ]
  },
  {
   "cell_type": "markdown",
   "metadata": {},
   "source": [
    "## Content\n",
    "---"
   ]
  },
  {
   "cell_type": "markdown",
   "metadata": {},
   "source": [
    "Some of the important files and folders are listed below:\n",
    "\n",
    "**/src**\n",
    "- The src folder consists of the following important .cpp files:\n",
    "    - ukf.cpp\n",
    "        - implementation of Unscented Kalman Filters which fuses the measurements obtained from LIDAR and RADAR sensors\n",
    "    - tools.cpp\n",
    "        - implementation of Root Mean Square Error function to calculate the accuracy between ground truth and the value predicted by Unscented Kalman Filters\n",
    "    - main.cpp\n",
    "        - main procedure implementation\n",
    "    - /Eigen\n",
    "        - package consisting of implementation of Matrix and Vector based arithmetic operations\n",
    "\n",
    "**/NIS**\n",
    "- The NIS folder consists of **plot_nis.py** Python file which is used to plot the Normalized Innovation Squared (NIS) value which is used to tune the process noise parameters\n",
    "- The folder also contains the NIS values for LIDAR and RADAR sensor with filenames **NIS_laser.csv** and **NIS_radar.csv** respectively.\n",
    "\n",
    "**/Debug**\n",
    "- This folder consists of executable file **UnscentedKF.sh** which runs the main procedure of the project.\n",
    "\n",
    "**/data**\n",
    "- Consists of the file **obj_pose-laser-radar-synthetic-input.txt** which stores the sensor measurements of LIDAR & RADAR\n",
    "\n",
    "**CMakeLists.txt**\n",
    "- Cmake file to build the project\n",
    "\n",
    "**UnscentedKF.xcodeproj**\n",
    "- Xcode IDE project file used to build the project files"
   ]
  },
  {
   "cell_type": "markdown",
   "metadata": {},
   "source": [
    "## Usage\n",
    "---"
   ]
  },
  {
   "cell_type": "markdown",
   "metadata": {},
   "source": [
    "1. Run the **UnscentedKF.sh** executable file to run the program.\n",
    "2. Run the Udacity's Simulator and select 'Project 1/2: EKF/UKF'.\n",
    "3. Select Dataset 1 and click on 'Start' to start the simulator.\n",
    "4. The RMSE for the experiment will be displayed on the screen.\n",
    "5. In **ukf.cpp** set the variables `use_laser_` and `use_radar_` as True or False according to your experiment to use either LIDAR or RADAR or both the sensors."
   ]
  },
  {
   "cell_type": "markdown",
   "metadata": {},
   "source": [
    "## Observations\n",
    "---"
   ]
  },
  {
   "cell_type": "markdown",
   "metadata": {},
   "source": [
    "**Part A: Tuning the Process Noise**\n",
    "- We have chosen our process noise paramaters namely longitudinal acceleration standard deviation (std_a) as **1.5** and yaw acceleration standard deviation (std_yawdd) as **0.3926** or (π/8).\n",
    "- The values have been chosen randomly and are based on the lectures related to project mentioned in the Udacity's Self Driving Car Nanodegree Program.\n",
    "- The NIS graphs for these values are as follows:"
   ]
  },
  {
   "cell_type": "markdown",
   "metadata": {},
   "source": [
    "![Normalized Innovation Squared](NIS/NIS.png)"
   ]
  },
  {
   "cell_type": "markdown",
   "metadata": {},
   "source": [
    "**Part B**\n",
    "- Now let us plot down the RMSE values using the LIDAR and RADAR sensors.\n",
    "\n",
    "|Case  |Px    |Py    |Vx    |Vy    |\n",
    "|------|------|------|------|------|\n",
    "|LASER |0.1726|0.1500|0.6258|0.2588|\n",
    "|RADAR |0.2138|0.2658|0.3944|0.3083|\n",
    "|BOTH  |0.0703|0.0827|0.3400|0.2239|\n",
    "\n",
    "- While LASER data provides better position the RADAR data provides better understanding of velocity and as displayed by the RMSE data in the table **Fusion of sensors provides the best RMSE value**.\n",
    "\n",
    "\n",
    "![Unscented Kalman Filters](output.png)"
   ]
  },
  {
   "cell_type": "markdown",
   "metadata": {},
   "source": [
    "## Conclusion\n",
    "---"
   ]
  },
  {
   "cell_type": "markdown",
   "metadata": {},
   "source": [
    "- From the above observations we can see that the results obtained from UKF are far more better than EKF ( For EKF values please refer the README of [Extended Kalman Filters Project](https://github.com/anborde/Extended-Kalman-Filters) on GitHub.\n",
    "- Also, the UKF algorithm is much more efficient than the EKF algorithm as the estimation of Sigma Points is less complex compared to the highly computational Jacobian Matrix which is used in EKF.\n",
    "- Both, EKF and UKF have dominantly proved that a single sensor is not adequate to judge the position and velocity of an obstacle and **Sensor Fusion** is an important aspect of **Self Driving Cars**."
   ]
  }
 ],
 "metadata": {
  "kernelspec": {
   "display_name": "Python 3",
   "language": "python",
   "name": "python3"
  },
  "language_info": {
   "codemirror_mode": {
    "name": "ipython",
    "version": 3
   },
   "file_extension": ".py",
   "mimetype": "text/x-python",
   "name": "python",
   "nbconvert_exporter": "python",
   "pygments_lexer": "ipython3",
   "version": "3.5.2"
  }
 },
 "nbformat": 4,
 "nbformat_minor": 2
}
